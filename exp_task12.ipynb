{
 "cells": [
  {
   "cell_type": "markdown",
   "source": [
    "## Введение\n",
    "Данный эксперимент посвящен анализу производительности различных алгоритмов решения задачи достижимости между всеми парами вершин с контекстно-свободными ограничениями.\n",
    "\n",
    "Исследуется производительность следующих алгоритмов:\n",
    "1. Алгоритм Хеллингса. Грамматика должна находится в ОНФХ. Для каждого не терминала необходимо хранить из какой вершины\n",
    "в какую можно \"прийти\". И на каждой итерации путем \"склеивания\" не терминалов проверяется есть ли такая продукция в грамматике, если да, то сохраняется не терминал с соответствующими вершинами, из которого выводится данная \"склеенная\" продукция.\n",
    "2. Матричный алгоритм. Грамматика должна находится в ОНФХ. Строится матрица смежности графа и производится суммирование матрицы с ее квадратом, пока матрица изменяется.\n",
    "3. Тензорный алгоритм. По КС грамматике строится рекурсивный автомат, для графа и автомата строятся матрицы смежности, далее пока результат изменяется, производиться пересечение матриц и транзитивное замыкание полученного пересечения, затем добавляем в граф ребра для вершин, для которых были найдены пути.\n",
    "\n",
    "## Цель\n",
    "Необходимо сравнить работу алгоритмов и ответить на поставленные вопросы:\n",
    "\n",
    "- Какой из трёх указанных алгоритмов обладает лучшей производительностью?\n",
    "- Имеет ли смысл для решения задачи достижимости с регулярными ограничениями использовать алгоритмы для КС ограничений (ведь регулярные --- частный случай КС) или всё же лучше использовать специализированные алгоритмы для регулярных ограничений?\n",
    "\n",
    "## Наборы данных\n",
    "Выбор данных обусловлен тем, что хотелось рассмотреть поведение алгоритмов на графах различных размеров. Работа алгоритмов проверяется на следующих графах:\n",
    "\n",
    "#### Анализ RDF\n",
    "На графах больших по числу узлов и ребер, чем [core](https://formallanguageconstrainedpathquerying.github.io/CFPQ_Data/graphs/data/core.html#core), работа алгоритмов занимала слишком много времени.\n",
    "1. [atom](https://formallanguageconstrainedpathquerying.github.io/CFPQ_Data/graphs/data/atom.html#atom)\n",
    "2. [pizza](https://formallanguageconstrainedpathquerying.github.io/CFPQ_Data/graphs/data/pizza.html#pizza)\n",
    "3. [core](https://formallanguageconstrainedpathquerying.github.io/CFPQ_Data/graphs/data/core.html#core)\n",
    "\n",
    "#### Анализ указателей в C\n",
    "1. [wc](https://formallanguageconstrainedpathquerying.github.io/CFPQ_Data/graphs/data/wc.html#wc)\n",
    "2. [bzip](https://formallanguageconstrainedpathquerying.github.io/CFPQ_Data/graphs/data/bzip.html#bzip)\n",
    "3. [gzip](https://formallanguageconstrainedpathquerying.github.io/CFPQ_Data/graphs/data/gzip.html#gzip)\n",
    "\n",
    "#### Анализ Java-программ\n",
    "1. [lusearch](https://formallanguageconstrainedpathquerying.github.io/CFPQ_Data/graphs/data/lusearch.html#lusearch)\n",
    "\n",
    "#### КС запросы\n",
    "Запросы были взяты из классических грамматик для соответствующих групп графов в наборе:\n",
    "- Для RDF графов:\n",
    "    ```\n",
    "    S -> subClassOf_r S subClassOf | subClassOf_r subClassOf | type_r S type | type_r type\n",
    "    ```\n",
    "- Для C графов:\n",
    "    ```\n",
    "    S -> d_r V d\n",
    "    V -> V1 V2 V3\n",
    "    V1 -> epsilon\n",
    "    V1 -> V2 a_r V1\n",
    "    V2 -> epsilon\n",
    "    V2 -> S\n",
    "    V3 -> epsilon\n",
    "    V3 -> a V2 V3\n",
    "    ```\n",
    "\n",
    "#### Регулярные запросы\n",
    "Для генерации регулярных выражений используются 4 самые распространенные метки на ребрах графа и строятся по следующему шаблону, где l1, l2, l3, l4 метки ребер:\n",
    "\n",
    "   1.       (l1 | l2)* l3\n",
    "   2.       (l3 | l4)+ l1*\n",
    "   3.       l1 l2 l3 (l4|l1)*\n",
    "\n",
    "## Описание эксперимента\n",
    "\n",
    "#### Технические характеристики машины:\n",
    "- Процессор: core i7-10750H 2.60GHz, 6 ядер, 12 логических процессоров.\n",
    "- Кэш: 1ого уровня - 384 Кб, 2ого уровня 1,5 Мб, 3его уровня 12 Мб.\n",
    "- Объем оперативной памяти: 16гб, 2933 МГц.\n",
    "- ОС: Windows 10.\n",
    "- Версия Python: 3.9.6\n",
    "\n",
    "#### Проведение замеров:\n",
    "Замеры времени производятся в секундах при помощи библиотеки [time](https://docs.python.org/3/library/time.html). Замеряется время работы функций из файла cfpq. На каждый вариант набора данных производится 10 запусков, вычисляется среднее арифметическое и стандартное отклонение значений времени и выводятся все замеры в виде диаграмм.\n",
    "\n"
   ],
   "metadata": {
    "collapsed": false,
    "pycharm": {
     "name": "#%% md\n"
    }
   }
  },
  {
   "cell_type": "markdown",
   "source": [
    "**Импортируем необходимые библиотеки и инициализируем глобальные переменные для эксперимента**\n"
   ],
   "metadata": {
    "collapsed": false,
    "pycharm": {
     "name": "#%% md\n"
    }
   }
  },
  {
   "cell_type": "code",
   "execution_count": null,
   "outputs": [],
   "source": [
    "import time\n",
    "from collections import Counter\n",
    "\n",
    "import cfpq_data\n",
    "from pyformlang.regular_expression import Regex\n",
    "from scipy import stats\n",
    "import matplotlib.pyplot as plt\n",
    "import numpy as np\n",
    "from project.rpq import rpq_by_tensor\n",
    "\n",
    "from project.cfpq import *\n",
    "\n",
    "cfpq_data.logging.disable()\n",
    "\n",
    "NUMBER_OF_LAUNCHES = 10\n",
    "TYPE_OF_ALG_CFPQ = [\"matrix\", \"tensor\", \"hellings\"]\n",
    "COMPARE_ALG_CFPQ_RPQ = [\"matrix\", \"tensor\", \"tensor_rpq\"]\n",
    "RDF_DATASET_GRAPH = [\"atom\", \"pizza\", \"core\"]\n",
    "C_DATASET_GRAPH = [\"wc\", \"bzip\", \"gzip\"]\n",
    "JAVA_DATASET_GRAPH = [\"lusearch\"]\n",
    "TYPE_OF_REGEXES = [\"(l1 | l2)* l3\",\n",
    "                   \"(l3 | l4)+ l1*\",\n",
    "                   \"l1 l2 l3 (l4|l1)*\"]\n",
    "\n",
    "CFG_RDF = [\n",
    "    CFG.from_text(\n",
    "        \"S -> subClassOf_r S subClassOf | subClassOf_r subClassOf | type_r S type | type_r type\"\n",
    "    )\n",
    "]\n",
    "\n",
    "CFG_C = [\n",
    "    CFG.from_text(\n",
    "        \"\"\"\n",
    "        S -> d_r V d\n",
    "        V -> V1 V2 V3\n",
    "        V1 -> epsilon\n",
    "        V1 -> V2 a_r V1\n",
    "        V2 -> epsilon\n",
    "        V2 -> S\n",
    "        V3 -> epsilon\n",
    "        V3 -> a V2 V3\n",
    "        \"\"\"\n",
    "    )\n",
    "]"
   ],
   "metadata": {
    "collapsed": false,
    "pycharm": {
     "name": "#%%\n"
    }
   }
  },
  {
   "cell_type": "markdown",
   "source": [
    "**Функция для отрисовки диаграммы**"
   ],
   "metadata": {
    "collapsed": false,
    "pycharm": {
     "name": "#%% md\n"
    }
   }
  },
  {
   "cell_type": "code",
   "execution_count": 36,
   "outputs": [],
   "source": [
    "def draw_diagram(graphs, algos_time, algos_deviation, type_algos, query=\"\"):\n",
    "    index = np.arange(len(graphs))\n",
    "    bw = 0.2\n",
    "    plt.title(query, fontsize=15)\n",
    "    colors = [\"r\", \"b\", \"g\", \"y\"]\n",
    "    for count, name_algos in enumerate(type_algos):\n",
    "        plt.bar(index + bw * (count + 1), algos_time[name_algos], bw,\n",
    "                yerr=algos_deviation[name_algos],\n",
    "                error_kw={'ecolor': '0.1', 'capsize': 6}, alpha=0.7, color=colors[count], label=name_algos)\n",
    "    plt.xlabel('Graphs')\n",
    "    plt.ylabel('Time, seconds')\n",
    "    plt.xticks(index + 1 * bw, graphs)\n",
    "    plt.yscale('log')\n",
    "    plt.legend(loc=1)\n",
    "    plt.show()"
   ],
   "metadata": {
    "collapsed": false,
    "pycharm": {
     "name": "#%%\n"
    }
   }
  },
  {
   "cell_type": "markdown",
   "source": [
    "**Функция для генерации регулярных выражений по графу**"
   ],
   "metadata": {
    "collapsed": false,
    "pycharm": {
     "name": "#%% md\n"
    }
   }
  },
  {
   "cell_type": "code",
   "execution_count": 37,
   "outputs": [],
   "source": [
    "def generate_regexes(graph, num_of_type):\n",
    "    most_common_labels = Counter(list(map(lambda node: node[2][\"label\"], graph.edges.data()))).most_common(4)\n",
    "    if num_of_type == 0:\n",
    "        return \"(\" + str(most_common_labels[0][0]) + \"|\" + str(most_common_labels[1][0]) + \")*\" + str(\n",
    "            most_common_labels[2][0])\n",
    "    elif num_of_type == 1:\n",
    "        return \"(\" + str(most_common_labels[2][0]) + \"|\" + str(most_common_labels[3][0]) + \")|(\" + str(\n",
    "            most_common_labels[2][0]) + \"|\" + str(most_common_labels[3][0]) + \")*\" + str(\n",
    "            most_common_labels[0][0]) + \"*\"\n",
    "    else:\n",
    "        return str(most_common_labels[0][0]) + \" \" + str(most_common_labels[1][0]) + \" \" + str(\n",
    "            most_common_labels[2][0]) + \"(\" + str(most_common_labels[3][0]) + \"|\" + str(\n",
    "            most_common_labels[0][0]) + \")*\""
   ],
   "metadata": {
    "collapsed": false,
    "pycharm": {
     "name": "#%%\n"
    }
   }
  },
  {
   "cell_type": "markdown",
   "source": [
    "**Диаграмма производительности алгоритмов для RDF графов**"
   ],
   "metadata": {
    "collapsed": false,
    "pycharm": {
     "name": "#%% md\n"
    }
   }
  },
  {
   "cell_type": "code",
   "execution_count": 38,
   "outputs": [],
   "source": [
    "def analyse_by_cfg(cfgs, graphs):\n",
    "    for cfg in cfgs:\n",
    "        algos_time = {\"hellings\": [], \"matrix\": [], \"tensor\": []}\n",
    "        algos_deviation = {\"hellings\": [], \"matrix\": [], \"tensor\": []}\n",
    "        for graph_name in graphs:\n",
    "            graph = cfpq_data.graph_from_csv(cfpq_data.download(graph_name))\n",
    "            graph2 = cfpq_data.add_reverse_edges(graph)\n",
    "            for alg_name in TYPE_OF_ALG_CFPQ:\n",
    "                times = []\n",
    "                if alg_name == \"hellings\" and (graph_name == \"gzip\" or graph_name == \"pathways\"):\n",
    "                    algos_time[alg_name].append(0)\n",
    "                    algos_deviation[alg_name].append(0)\n",
    "                    continue\n",
    "                for i in range(NUMBER_OF_LAUNCHES):\n",
    "                    start_time = time.time()\n",
    "                    cfpq(graph=graph2, cfg=cfg, alg_type=alg_name)\n",
    "                    final_time = time.time() - start_time\n",
    "                    times.append(final_time)\n",
    "                mean_time = np.mean(times)\n",
    "                deviation = stats.tstd(times)\n",
    "                algos_time[alg_name].append(mean_time)\n",
    "                algos_deviation[alg_name].append(deviation)\n",
    "        draw_diagram(graphs, algos_time, algos_deviation, TYPE_OF_ALG_CFPQ)"
   ],
   "metadata": {
    "collapsed": false,
    "pycharm": {
     "name": "#%%\n"
    }
   }
  },
  {
   "cell_type": "code",
   "execution_count": 39,
   "outputs": [
    {
     "data": {
      "text/plain": "<Figure size 640x480 with 1 Axes>",
      "image/png": "[encoded data removed]"
     },
     "metadata": {},
     "output_type": "display_data"
    }
   ],
   "source": [
    "analyse_by_cfg(CFG_RDF, RDF_DATASET_GRAPH)"
   ],
   "metadata": {
    "collapsed": false,
    "pycharm": {
     "name": "#%%\n"
    }
   }
  },
  {
   "cell_type": "code",
   "execution_count": 40,
   "outputs": [
    {
     "data": {
      "text/plain": "<Figure size 640x480 with 1 Axes>",
      "image/png": "[encoded data removed]"
     },
     "metadata": {},
     "output_type": "display_data"
    }
   ],
   "source": [
    "analyse_by_cfg(CFG_C, C_DATASET_GRAPH)"
   ],
   "metadata": {
    "collapsed": false,
    "pycharm": {
     "name": "#%%\n"
    }
   }
  },
  {
   "cell_type": "code",
   "execution_count": 41,
   "outputs": [],
   "source": [
    "def analyse_by_regex(graphs):\n",
    "    for num_of_type, regex in enumerate(TYPE_OF_REGEXES):\n",
    "        algos_time = {\"hellings\": [], \"matrix\": [], \"tensor\": [], \"tensor_rpq\": []}\n",
    "        algos_deviation = {\"hellings\": [], \"matrix\": [], \"tensor\": [], \"tensor_rpq\": []}\n",
    "        for graph_name in graphs:\n",
    "            graph = cfpq_data.graph_from_csv(cfpq_data.download(graph_name))\n",
    "            graph2 = cfpq_data.add_reverse_edges(graph)\n",
    "            query = Regex(generate_regexes(graph2, num_of_type))\n",
    "            for alg_name in COMPARE_ALG_CFPQ_RPQ:\n",
    "                times = []\n",
    "                for i in range(NUMBER_OF_LAUNCHES):\n",
    "                    if alg_name == \"tensor_rpq\":\n",
    "                        start_time = time.time()\n",
    "                        rpq_by_tensor(graph2, query)\n",
    "                        final_time = time.time() - start_time\n",
    "                        times.append(final_time)\n",
    "                    else:\n",
    "                        cfg = query.to_cfg()\n",
    "                        start_time = time.time()\n",
    "                        cfpq(graph=graph2, cfg=cfg, alg_type=alg_name)\n",
    "                        final_time = time.time() - start_time\n",
    "                        times.append(final_time)\n",
    "                mean_time = np.mean(times)\n",
    "                deviation = stats.tstd(times)\n",
    "                algos_time[alg_name].append(mean_time)\n",
    "                algos_deviation[alg_name].append(deviation)\n",
    "        draw_diagram(graphs, algos_time, algos_deviation, COMPARE_ALG_CFPQ_RPQ, regex)"
   ],
   "metadata": {
    "collapsed": false,
    "pycharm": {
     "name": "#%%\n"
    }
   }
  },
  {
   "cell_type": "code",
   "execution_count": 43,
   "outputs": [
    {
     "ename": "KeyboardInterrupt",
     "evalue": "",
     "output_type": "error",
     "traceback": [
      "\u001B[1;31m---------------------------------------------------------------------------\u001B[0m",
      "\u001B[1;31mKeyboardInterrupt\u001B[0m                         Traceback (most recent call last)",
      "Cell \u001B[1;32mIn [43], line 1\u001B[0m\n\u001B[1;32m----> 1\u001B[0m \u001B[43manalyse_by_regex\u001B[49m\u001B[43m(\u001B[49m\u001B[43mRDF_DATASET_GRAPH\u001B[49m\u001B[43m)\u001B[49m\n",
      "Cell \u001B[1;32mIn [41], line 20\u001B[0m, in \u001B[0;36manalyse_by_regex\u001B[1;34m(graphs)\u001B[0m\n\u001B[0;32m     18\u001B[0m cfg \u001B[38;5;241m=\u001B[39m query\u001B[38;5;241m.\u001B[39mto_cfg()\n\u001B[0;32m     19\u001B[0m start_time \u001B[38;5;241m=\u001B[39m time\u001B[38;5;241m.\u001B[39mtime()\n\u001B[1;32m---> 20\u001B[0m \u001B[43mcfpq\u001B[49m\u001B[43m(\u001B[49m\u001B[43mgraph\u001B[49m\u001B[38;5;241;43m=\u001B[39;49m\u001B[43mgraph2\u001B[49m\u001B[43m,\u001B[49m\u001B[43m \u001B[49m\u001B[43mcfg\u001B[49m\u001B[38;5;241;43m=\u001B[39;49m\u001B[43mcfg\u001B[49m\u001B[43m,\u001B[49m\u001B[43m \u001B[49m\u001B[43malg_type\u001B[49m\u001B[38;5;241;43m=\u001B[39;49m\u001B[43malg_name\u001B[49m\u001B[43m)\u001B[49m\n\u001B[0;32m     21\u001B[0m final_time \u001B[38;5;241m=\u001B[39m time\u001B[38;5;241m.\u001B[39mtime() \u001B[38;5;241m-\u001B[39m start_time\n\u001B[0;32m     22\u001B[0m times\u001B[38;5;241m.\u001B[39mappend(final_time)\n",
      "File \u001B[1;32mD:\\GitHub\\formal-lang-course\\project\\cfpq.py:32\u001B[0m, in \u001B[0;36mcfpq\u001B[1;34m(graph, cfg, start_nodes, final_nodes, start_symbol, alg_type)\u001B[0m\n\u001B[0;32m     24\u001B[0m     \u001B[38;5;28;01mreturn\u001B[39;00m {\n\u001B[0;32m     25\u001B[0m         (u, v)\n\u001B[0;32m     26\u001B[0m         \u001B[38;5;28;01mfor\u001B[39;00m (V, u, v) \u001B[38;5;129;01min\u001B[39;00m hellings(graph, cfg)\n\u001B[0;32m     27\u001B[0m         \u001B[38;5;28;01mif\u001B[39;00m V \u001B[38;5;241m==\u001B[39m start_symbol \u001B[38;5;129;01mand\u001B[39;00m u \u001B[38;5;129;01min\u001B[39;00m start_nodes \u001B[38;5;129;01mand\u001B[39;00m v \u001B[38;5;129;01min\u001B[39;00m final_nodes\n\u001B[0;32m     28\u001B[0m     }\n\u001B[0;32m     29\u001B[0m \u001B[38;5;28;01melif\u001B[39;00m alg_type \u001B[38;5;241m==\u001B[39m \u001B[38;5;124m\"\u001B[39m\u001B[38;5;124mmatrix\u001B[39m\u001B[38;5;124m\"\u001B[39m:\n\u001B[0;32m     30\u001B[0m     \u001B[38;5;28;01mreturn\u001B[39;00m {\n\u001B[0;32m     31\u001B[0m         (u, v)\n\u001B[1;32m---> 32\u001B[0m         \u001B[38;5;28;01mfor\u001B[39;00m (V, u, v) \u001B[38;5;129;01min\u001B[39;00m \u001B[43mmatrix\u001B[49m\u001B[43m(\u001B[49m\u001B[43mgraph\u001B[49m\u001B[43m,\u001B[49m\u001B[43m \u001B[49m\u001B[43mcfg\u001B[49m\u001B[43m)\u001B[49m\n\u001B[0;32m     33\u001B[0m         \u001B[38;5;28;01mif\u001B[39;00m V \u001B[38;5;241m==\u001B[39m start_symbol \u001B[38;5;129;01mand\u001B[39;00m u \u001B[38;5;129;01min\u001B[39;00m start_nodes \u001B[38;5;129;01mand\u001B[39;00m v \u001B[38;5;129;01min\u001B[39;00m final_nodes\n\u001B[0;32m     34\u001B[0m     }\n\u001B[0;32m     35\u001B[0m \u001B[38;5;28;01melif\u001B[39;00m alg_type \u001B[38;5;241m==\u001B[39m \u001B[38;5;124m\"\u001B[39m\u001B[38;5;124mtensor\u001B[39m\u001B[38;5;124m\"\u001B[39m:\n\u001B[0;32m     36\u001B[0m     \u001B[38;5;28;01mreturn\u001B[39;00m {\n\u001B[0;32m     37\u001B[0m         (u, v)\n\u001B[0;32m     38\u001B[0m         \u001B[38;5;28;01mfor\u001B[39;00m (V, u, v) \u001B[38;5;129;01min\u001B[39;00m tensor(graph, cfg)\n\u001B[0;32m     39\u001B[0m         \u001B[38;5;28;01mif\u001B[39;00m V \u001B[38;5;241m==\u001B[39m start_symbol \u001B[38;5;129;01mand\u001B[39;00m u \u001B[38;5;129;01min\u001B[39;00m start_nodes \u001B[38;5;129;01mand\u001B[39;00m v \u001B[38;5;129;01min\u001B[39;00m final_nodes\n\u001B[0;32m     40\u001B[0m     }\n",
      "File \u001B[1;32mD:\\GitHub\\formal-lang-course\\project\\cfpq.py:116\u001B[0m, in \u001B[0;36mmatrix\u001B[1;34m(graph, cfg)\u001B[0m\n\u001B[0;32m    114\u001B[0m     \u001B[38;5;28;01mfor\u001B[39;00m prod \u001B[38;5;129;01min\u001B[39;00m var_prod:\n\u001B[0;32m    115\u001B[0m         nnz_old \u001B[38;5;241m=\u001B[39m adjs[prod\u001B[38;5;241m.\u001B[39mhead]\u001B[38;5;241m.\u001B[39mnnz\n\u001B[1;32m--> 116\u001B[0m         adjs[prod\u001B[38;5;241m.\u001B[39mhead] \u001B[38;5;241m+\u001B[39m\u001B[38;5;241m=\u001B[39m \u001B[43madjs\u001B[49m\u001B[43m[\u001B[49m\u001B[43mprod\u001B[49m\u001B[38;5;241;43m.\u001B[39;49m\u001B[43mbody\u001B[49m\u001B[43m[\u001B[49m\u001B[38;5;241;43m0\u001B[39;49m\u001B[43m]\u001B[49m\u001B[43m]\u001B[49m\u001B[43m \u001B[49m\u001B[38;5;241;43m@\u001B[39;49m\u001B[43m \u001B[49m\u001B[43madjs\u001B[49m\u001B[43m[\u001B[49m\u001B[43mprod\u001B[49m\u001B[38;5;241;43m.\u001B[39;49m\u001B[43mbody\u001B[49m\u001B[43m[\u001B[49m\u001B[38;5;241;43m1\u001B[39;49m\u001B[43m]\u001B[49m\u001B[43m]\u001B[49m\n\u001B[0;32m    117\u001B[0m         changing \u001B[38;5;241m|\u001B[39m\u001B[38;5;241m=\u001B[39m adjs[prod\u001B[38;5;241m.\u001B[39mhead]\u001B[38;5;241m.\u001B[39mnnz \u001B[38;5;241m!=\u001B[39m nnz_old\n\u001B[0;32m    119\u001B[0m nodes \u001B[38;5;241m=\u001B[39m {i: n \u001B[38;5;28;01mfor\u001B[39;00m n, i \u001B[38;5;129;01min\u001B[39;00m nodes\u001B[38;5;241m.\u001B[39mitems()}\n",
      "File \u001B[1;32mD:\\GitHub\\formal-lang-course\\venv\\lib\\site-packages\\scipy\\sparse\\_base.py:630\u001B[0m, in \u001B[0;36mspmatrix.__matmul__\u001B[1;34m(self, other)\u001B[0m\n\u001B[0;32m    627\u001B[0m \u001B[38;5;28;01mif\u001B[39;00m isscalarlike(other):\n\u001B[0;32m    628\u001B[0m     \u001B[38;5;28;01mraise\u001B[39;00m \u001B[38;5;167;01mValueError\u001B[39;00m(\u001B[38;5;124m\"\u001B[39m\u001B[38;5;124mScalar operands are not allowed, \u001B[39m\u001B[38;5;124m\"\u001B[39m\n\u001B[0;32m    629\u001B[0m                      \u001B[38;5;124m\"\u001B[39m\u001B[38;5;124muse \u001B[39m\u001B[38;5;124m'\u001B[39m\u001B[38;5;124m*\u001B[39m\u001B[38;5;124m'\u001B[39m\u001B[38;5;124m instead\u001B[39m\u001B[38;5;124m\"\u001B[39m)\n\u001B[1;32m--> 630\u001B[0m \u001B[38;5;28;01mreturn\u001B[39;00m \u001B[38;5;28;43mself\u001B[39;49m\u001B[38;5;241;43m.\u001B[39;49m\u001B[43m_mul_dispatch\u001B[49m\u001B[43m(\u001B[49m\u001B[43mother\u001B[49m\u001B[43m)\u001B[49m\n",
      "File \u001B[1;32mD:\\GitHub\\formal-lang-course\\venv\\lib\\site-packages\\scipy\\sparse\\_base.py:541\u001B[0m, in \u001B[0;36mspmatrix._mul_dispatch\u001B[1;34m(self, other)\u001B[0m\n\u001B[0;32m    539\u001B[0m     \u001B[38;5;28;01mif\u001B[39;00m \u001B[38;5;28mself\u001B[39m\u001B[38;5;241m.\u001B[39mshape[\u001B[38;5;241m1\u001B[39m] \u001B[38;5;241m!=\u001B[39m other\u001B[38;5;241m.\u001B[39mshape[\u001B[38;5;241m0\u001B[39m]:\n\u001B[0;32m    540\u001B[0m         \u001B[38;5;28;01mraise\u001B[39;00m \u001B[38;5;167;01mValueError\u001B[39;00m(\u001B[38;5;124m'\u001B[39m\u001B[38;5;124mdimension mismatch\u001B[39m\u001B[38;5;124m'\u001B[39m)\n\u001B[1;32m--> 541\u001B[0m     \u001B[38;5;28;01mreturn\u001B[39;00m \u001B[38;5;28;43mself\u001B[39;49m\u001B[38;5;241;43m.\u001B[39;49m\u001B[43m_mul_sparse_matrix\u001B[49m\u001B[43m(\u001B[49m\u001B[43mother\u001B[49m\u001B[43m)\u001B[49m\n\u001B[0;32m    543\u001B[0m \u001B[38;5;66;03m# If it's a list or whatever, treat it like a matrix\u001B[39;00m\n\u001B[0;32m    544\u001B[0m other_a \u001B[38;5;241m=\u001B[39m np\u001B[38;5;241m.\u001B[39masanyarray(other)\n",
      "File \u001B[1;32mD:\\GitHub\\formal-lang-course\\venv\\lib\\site-packages\\scipy\\sparse\\_compressed.py:533\u001B[0m, in \u001B[0;36m_cs_matrix._mul_sparse_matrix\u001B[1;34m(self, other)\u001B[0m\n\u001B[0;32m    530\u001B[0m data \u001B[38;5;241m=\u001B[39m np\u001B[38;5;241m.\u001B[39mempty(nnz, dtype\u001B[38;5;241m=\u001B[39mupcast(\u001B[38;5;28mself\u001B[39m\u001B[38;5;241m.\u001B[39mdtype, other\u001B[38;5;241m.\u001B[39mdtype))\n\u001B[0;32m    532\u001B[0m fn \u001B[38;5;241m=\u001B[39m \u001B[38;5;28mgetattr\u001B[39m(_sparsetools, \u001B[38;5;28mself\u001B[39m\u001B[38;5;241m.\u001B[39mformat \u001B[38;5;241m+\u001B[39m \u001B[38;5;124m'\u001B[39m\u001B[38;5;124m_matmat\u001B[39m\u001B[38;5;124m'\u001B[39m)\n\u001B[1;32m--> 533\u001B[0m \u001B[43mfn\u001B[49m\u001B[43m(\u001B[49m\u001B[43mM\u001B[49m\u001B[43m,\u001B[49m\u001B[43m \u001B[49m\u001B[43mN\u001B[49m\u001B[43m,\u001B[49m\u001B[43m \u001B[49m\u001B[43mnp\u001B[49m\u001B[38;5;241;43m.\u001B[39;49m\u001B[43masarray\u001B[49m\u001B[43m(\u001B[49m\u001B[38;5;28;43mself\u001B[39;49m\u001B[38;5;241;43m.\u001B[39;49m\u001B[43mindptr\u001B[49m\u001B[43m,\u001B[49m\u001B[43m \u001B[49m\u001B[43mdtype\u001B[49m\u001B[38;5;241;43m=\u001B[39;49m\u001B[43midx_dtype\u001B[49m\u001B[43m)\u001B[49m\u001B[43m,\u001B[49m\n\u001B[0;32m    534\u001B[0m \u001B[43m   \u001B[49m\u001B[43mnp\u001B[49m\u001B[38;5;241;43m.\u001B[39;49m\u001B[43masarray\u001B[49m\u001B[43m(\u001B[49m\u001B[38;5;28;43mself\u001B[39;49m\u001B[38;5;241;43m.\u001B[39;49m\u001B[43mindices\u001B[49m\u001B[43m,\u001B[49m\u001B[43m \u001B[49m\u001B[43mdtype\u001B[49m\u001B[38;5;241;43m=\u001B[39;49m\u001B[43midx_dtype\u001B[49m\u001B[43m)\u001B[49m\u001B[43m,\u001B[49m\n\u001B[0;32m    535\u001B[0m \u001B[43m   \u001B[49m\u001B[38;5;28;43mself\u001B[39;49m\u001B[38;5;241;43m.\u001B[39;49m\u001B[43mdata\u001B[49m\u001B[43m,\u001B[49m\n\u001B[0;32m    536\u001B[0m \u001B[43m   \u001B[49m\u001B[43mnp\u001B[49m\u001B[38;5;241;43m.\u001B[39;49m\u001B[43masarray\u001B[49m\u001B[43m(\u001B[49m\u001B[43mother\u001B[49m\u001B[38;5;241;43m.\u001B[39;49m\u001B[43mindptr\u001B[49m\u001B[43m,\u001B[49m\u001B[43m \u001B[49m\u001B[43mdtype\u001B[49m\u001B[38;5;241;43m=\u001B[39;49m\u001B[43midx_dtype\u001B[49m\u001B[43m)\u001B[49m\u001B[43m,\u001B[49m\n\u001B[0;32m    537\u001B[0m \u001B[43m   \u001B[49m\u001B[43mnp\u001B[49m\u001B[38;5;241;43m.\u001B[39;49m\u001B[43masarray\u001B[49m\u001B[43m(\u001B[49m\u001B[43mother\u001B[49m\u001B[38;5;241;43m.\u001B[39;49m\u001B[43mindices\u001B[49m\u001B[43m,\u001B[49m\u001B[43m \u001B[49m\u001B[43mdtype\u001B[49m\u001B[38;5;241;43m=\u001B[39;49m\u001B[43midx_dtype\u001B[49m\u001B[43m)\u001B[49m\u001B[43m,\u001B[49m\n\u001B[0;32m    538\u001B[0m \u001B[43m   \u001B[49m\u001B[43mother\u001B[49m\u001B[38;5;241;43m.\u001B[39;49m\u001B[43mdata\u001B[49m\u001B[43m,\u001B[49m\n\u001B[0;32m    539\u001B[0m \u001B[43m   \u001B[49m\u001B[43mindptr\u001B[49m\u001B[43m,\u001B[49m\u001B[43m \u001B[49m\u001B[43mindices\u001B[49m\u001B[43m,\u001B[49m\u001B[43m \u001B[49m\u001B[43mdata\u001B[49m\u001B[43m)\u001B[49m\n\u001B[0;32m    541\u001B[0m \u001B[38;5;28;01mreturn\u001B[39;00m \u001B[38;5;28mself\u001B[39m\u001B[38;5;241m.\u001B[39m\u001B[38;5;18m__class__\u001B[39m((data, indices, indptr), shape\u001B[38;5;241m=\u001B[39m(M, N))\n",
      "\u001B[1;31mKeyboardInterrupt\u001B[0m: "
     ]
    }
   ],
   "source": [
    "analyse_by_regex(RDF_DATASET_GRAPH)"
   ],
   "metadata": {
    "collapsed": false,
    "pycharm": {
     "name": "#%%\n"
    }
   }
  }
 ],
 "metadata": {
  "kernelspec": {
   "display_name": "Python 3 (ipykernel)",
   "language": "python",
   "name": "python3"
  },
  "language_info": {
   "codemirror_mode": {
    "name": "ipython",
    "version": 3
   },
   "file_extension": ".py",
   "mimetype": "text/x-python",
   "name": "python",
   "nbconvert_exporter": "python",
   "pygments_lexer": "ipython3",
   "version": "3.9.6"
  }
 },
 "nbformat": 4,
 "nbformat_minor": 1
}